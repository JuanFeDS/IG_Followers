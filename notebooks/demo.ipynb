{
 "cells": [
  {
   "cell_type": "markdown",
   "id": "fd51a036",
   "metadata": {},
   "source": [
    "## **Librerías**"
   ]
  },
  {
   "cell_type": "code",
   "execution_count": 1,
   "id": "6d813abd",
   "metadata": {},
   "outputs": [],
   "source": [
    "import os\n",
    "import zipfile"
   ]
  },
  {
   "cell_type": "code",
   "execution_count": 4,
   "id": "5b8acda2",
   "metadata": {},
   "outputs": [],
   "source": [
    "from datetime import datetime"
   ]
  },
  {
   "cell_type": "code",
   "execution_count": 2,
   "id": "fa251784",
   "metadata": {},
   "outputs": [],
   "source": [
    "import pandas as pd"
   ]
  },
  {
   "cell_type": "code",
   "execution_count": 3,
   "id": "dd37bc8b",
   "metadata": {},
   "outputs": [],
   "source": [
    "from bs4 import BeautifulSoup"
   ]
  },
  {
   "cell_type": "markdown",
   "id": "a9b36bdd",
   "metadata": {},
   "source": [
    "## **Enviroment Variables**"
   ]
  },
  {
   "cell_type": "code",
   "execution_count": 16,
   "id": "41044330",
   "metadata": {},
   "outputs": [],
   "source": [
    "data_path = '../data/'"
   ]
  },
  {
   "cell_type": "markdown",
   "id": "85bfcc6f",
   "metadata": {},
   "source": [
    "## **Extract Data**"
   ]
  },
  {
   "cell_type": "code",
   "execution_count": 5,
   "id": "2d6c1aa8",
   "metadata": {},
   "outputs": [],
   "source": [
    "month = int(str(datetime.now()).replace('-', '')[:6])"
   ]
  },
  {
   "cell_type": "code",
   "execution_count": null,
   "id": "c5099e11",
   "metadata": {},
   "outputs": [],
   "source": [
    "original_path = f'{data_path}/raw/juanfeds-{month}.zip'\n",
    "\n",
    "destination_path = f'{data_path}/processed/{month}'\n",
    "os.makedirs(destination_path, exist_ok=True)"
   ]
  },
  {
   "cell_type": "code",
   "execution_count": 22,
   "id": "aae8a48d",
   "metadata": {},
   "outputs": [],
   "source": [
    "with zipfile.ZipFile(original_path, 'r') as zip_ref:\n",
    "    zip_ref.extractall(destination_path)"
   ]
  },
  {
   "cell_type": "markdown",
   "id": "2d720cc3",
   "metadata": {},
   "source": [
    "## **Read Data**"
   ]
  },
  {
   "cell_type": "code",
   "execution_count": 43,
   "id": "c71ddf7e",
   "metadata": {},
   "outputs": [],
   "source": [
    "def build_df(path: str, category: str) -> pd.DataFrame:\n",
    "    \n",
    "\n",
    "    # Read the HTML file\n",
    "    with open(path, 'r', encoding='utf-8') as file:\n",
    "        content = file.read()\n",
    "\n",
    "    # Parse the HTML content\n",
    "    soup = BeautifulSoup(content, 'html.parser')\n",
    "    data_raw = soup.select('div._a705 > main > div')\n",
    "        \n",
    "    data_list = []\n",
    "    url_list = []\n",
    "\n",
    "    for item in data_raw:\n",
    "        final_item = item.get_text(separator=' ', strip=True)\n",
    "        url = item.find('a')['href']\n",
    "        \n",
    "        data_list.append(final_item)\n",
    "        url_list.append(url)\n",
    "\n",
    "    user = [i.split(' ')[0] for i in data_list]\n",
    "    year = [i.split(' ')[3] for i in data_list]\n",
    "    month = [i.split(' ')[1] for i in data_list]\n",
    "    day = [i.split(' ')[2].replace(',', '') for i in data_list]\n",
    "\n",
    "    df_followers = pd.DataFrame({\n",
    "        f'{category}_username': user,\n",
    "        f'{category}_url': url_list,\n",
    "        f'{category}_year': year,\n",
    "        f'{category}_month': month,\n",
    "        f'{category}_day': day\n",
    "    })\n",
    "\n",
    "    return df_followers\n"
   ]
  },
  {
   "cell_type": "code",
   "execution_count": 44,
   "id": "bd1201dc",
   "metadata": {},
   "outputs": [],
   "source": [
    "following_path = f'{destination_path}/connections/followers_and_following/following.html'\n",
    "df_following = build_df(following_path, 'following')"
   ]
  },
  {
   "cell_type": "code",
   "execution_count": 45,
   "id": "17fa95e3",
   "metadata": {},
   "outputs": [],
   "source": [
    "followers_path = f'{destination_path}/connections/followers_and_following/followers_1.html'\n",
    "df_followers = build_df(followers_path, 'followers')"
   ]
  },
  {
   "cell_type": "code",
   "execution_count": 52,
   "id": "35c738a3",
   "metadata": {},
   "outputs": [],
   "source": [
    "def unfollowers(df_following: pd.DataFrame, df_followers: pd.DataFrame) -> pd.DataFrame:\n",
    "    \n",
    "    df_final = pd.merge(\n",
    "        df_following,\n",
    "        df_followers,\n",
    "        how='outer',\n",
    "        left_on='following_username',\n",
    "        right_on='followers_username'\n",
    "    )\n",
    "\n",
    "    df_unfollowers = df_final[df_final['followers_username'].isna()][['following_username', 'following_url']].reset_index(drop=True)\n",
    "\n",
    "    return df_unfollowers\n"
   ]
  },
  {
   "cell_type": "code",
   "execution_count": 54,
   "id": "f9a021e9",
   "metadata": {},
   "outputs": [],
   "source": [
    "df_unfollowers = unfollowers(df_following, df_followers)\n",
    "df_unfollowers.to_csv(f'{data_path}/clean/unfollowers_{month}.csv', index=False)"
   ]
  }
 ],
 "metadata": {
  "kernelspec": {
   "display_name": "venv",
   "language": "python",
   "name": "python3"
  },
  "language_info": {
   "codemirror_mode": {
    "name": "ipython",
    "version": 3
   },
   "file_extension": ".py",
   "mimetype": "text/x-python",
   "name": "python",
   "nbconvert_exporter": "python",
   "pygments_lexer": "ipython3",
   "version": "3.12.2"
  }
 },
 "nbformat": 4,
 "nbformat_minor": 5
}
